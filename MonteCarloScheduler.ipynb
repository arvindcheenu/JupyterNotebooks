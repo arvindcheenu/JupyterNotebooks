{
 "cells": [
  {
   "cell_type": "markdown",
   "metadata": {},
   "source": [
    "# Monte Carlo Scheduler\n",
    "#### Predicting duration for completion of future tasks based on knowledge estimates from historical data \n",
    "This simple program utilises a primitive linear regression model for prediction of actual time for completion of tasks based on the estimates provided by randomly sampling data from historical records to run a simulation over $n$ iterations, resulting in a list of predictions grouped with their count of occurences from which confidence values can be computed for each prediction. Thus in a typical Monte Carlo Simulation, greater the confidence, greater becomes the probability for better prediction and greater the number of trials, greater becomes the accuracy. "
   ]
  },
  {
   "cell_type": "markdown",
   "metadata": {},
   "source": [
    "### Sample Datasets used for this Simulation"
   ]
  },
  {
   "cell_type": "code",
   "execution_count": 108,
   "metadata": {},
   "outputs": [
    {
     "name": "stdout",
     "output_type": "stream",
     "text": [
      "HISTORICAL TASK DATA\n",
      "   Task Name  Estimate  Actual\n",
      "0     Task 1        10      12\n",
      "1     Task 2         8      12\n",
      "2     Task 3        10      16\n",
      "3     Task 4         8      10\n",
      "4     Task 5         8      16\n",
      "5     Task 6         8      14\n",
      "6     Task 7        12      16\n",
      "7     Task 8        16      24\n",
      "8     Task 9         8      16\n",
      "9    task 10        12      24\n",
      "10   task 11        20      24\n",
      "11   task 12        14      20\n",
      "12   task 13         8      10\n",
      "13   task 14        12      14\n",
      "14   task 15        16      12\n",
      "15   task 16        20      24\n",
      "16   task 17         8      12\n",
      "17   task 18        12      12\n",
      "18   task 19        24      26\n",
      "19   task 20        20      24\n",
      "20  Task 21\"        16      16\n",
      "21   task 22         8       9\n",
      "22   task 23        20      23\n",
      "23   task 24         8       8\n",
      "\n",
      "FUTURE TASK DATA\n",
      "   Task Name  Estimate\n",
      "0     Task 1         2\n",
      "1     Task 2        19\n",
      "2     Task 3         2\n",
      "3     Task 4        11\n",
      "4     Task 5        32\n",
      "5     Task 6         3\n",
      "6     Task 7         2\n",
      "7     Task 8         4\n",
      "8     Task 9        33\n",
      "9    Task 10        20\n",
      "10   Task 11        19\n",
      "11   Task 12         7\n",
      "12   Task 13        31\n",
      "13   Task 14         3\n",
      "14   Task 15         8\n",
      "15   Task 16        20\n",
      "16   Task 17         2\n",
      "17   Task 18         3\n",
      "18   Task 19        19\n",
      "19   Task 20        19\n",
      "20   Task 21         3\n",
      "21   Task 22         6\n",
      "22   Task 23         7\n",
      "23   Task 24        18\n",
      "24   Task 25         2\n",
      "25   Task 26        11\n",
      "26   Task 27        18\n",
      "27   Task 28        10\n",
      "28   Task 29         3\n",
      "29   Task 30        32\n",
      "30   Task 31         2\n",
      "31   Task 32         6\n"
     ]
    }
   ],
   "source": [
    "import pandas as pd\n",
    "print(\"HISTORICAL TASK DATA\")\n",
    "print(pd.read_csv('historical.csv'))\n",
    "print()\n",
    "print(\"FUTURE TASK DATA\")\n",
    "print(pd.read_csv('future.csv'))"
   ]
  },
  {
   "cell_type": "markdown",
   "metadata": {},
   "source": [
    "## Imports"
   ]
  },
  {
   "cell_type": "code",
   "execution_count": 109,
   "metadata": {},
   "outputs": [],
   "source": [
    "import csv\n",
    "import math\n",
    "from random import *\n",
    "from matplotlib.pyplot import *"
   ]
  },
  {
   "cell_type": "markdown",
   "metadata": {},
   "source": [
    "## Loading the Datasets\n",
    "The CSV files for the scheduling task is loaded by the following function, which generalises the loading and parsing of .csv files into nested list of records, better suited for data transformation and manipulation. `Pandas.read_csv()` can also be used to do the same. \n"
   ]
  },
  {
   "cell_type": "code",
   "execution_count": 110,
   "metadata": {},
   "outputs": [],
   "source": [
    "# CSV LOADER\n",
    "def loadCSV(filename):\n",
    "\thasHeaders=False\n",
    "\twith open(filename) as csvfile:\n",
    "\t\toutput = []\n",
    "        # sample head buffer to explore .csv paramaters\n",
    "\t\tsample = csvfile.read(1024) \n",
    "        # check if .csv has headers\n",
    "\t\thasHeaders = csv.Sniffer().has_header(sample)\n",
    "        # get encoding parameters in .csv\n",
    "\t\tdialect = csv.Sniffer().sniff(sample)\n",
    "        # move cursor to start of .csv\n",
    "\t\tcsvfile.seek(0)\n",
    "        # begin reading .csv with scanned parameters\n",
    "\t\treader = csv.reader(csvfile,dialect)\n",
    "        # skip the header row in .csv\n",
    "\t\tfirstLine = True\n",
    "\t\tfor row in reader:\n",
    "\t\t\tif (hasHeaders and firstLine):\n",
    "\t\t\t\tfirstLine = False\n",
    "\t\t\telse:\n",
    "                # parse each record based on type\n",
    "\t\t\t\trecord = []\n",
    "\t\t\t\tfor col in row:\n",
    "\t\t\t\t\tif col.isnumeric():\n",
    "\t\t\t\t\t\trecord.append(int(col))\n",
    "\t\t\t\t\telse:\n",
    "\t\t\t\t\t\trecord.append(col)\n",
    "                # append parsed record to output\n",
    "\t\t\t\toutput.append(record)\n",
    "\t\treturn (output)  \n",
    "# DATASET LOADER    \n",
    "def loadData(historicalFilename, futureFilename):\n",
    "\thistorical \t= loadCSV(historicalFilename)\n",
    "\tfuture \t\t= loadCSV(futureFilename)\n",
    "\thasHeaders=False\n",
    "\treturn(historical, future)"
   ]
  },
  {
   "cell_type": "markdown",
   "metadata": {},
   "source": [
    "## Running the Simulations\n",
    "> #### Monte Carlo Method\n",
    "> A Monte Carlo Simulation is a way of approximating the value of a function where calculating the actual value is difficult or impossible. It uses random sampling to define constraints on the value and then makes a sort of \"best guess.\"\n",
    "> It works by the **Principle of Large Numbers** which states that\n",
    "> > ***“As the number of identically distributed, randomly generated variables increases, their sample mean (average) approaches their theoretical mean.”***\n",
    "> \n",
    "> The functions for carrying out these simulations are elaborated below."
   ]
  },
  {
   "cell_type": "markdown",
   "metadata": {},
   "source": [
    "### Simulator Functions"
   ]
  },
  {
   "cell_type": "markdown",
   "metadata": {},
   "source": [
    "Function to run $one$ simulation.<br> Mathematically, it computes the following expression.\n",
    "\n",
    "$\\bigg(\\frac{{sample(history)}_{actual}}{{sample(history)}_{estimated}}\\bigg)\\times{future}_{estimated}$\n",
    "```\n",
    "Runs 1 simulation of future data based on historical data.\n",
    "Input:  historical \t= list of lists in the format: [[TaskName, estimated, actual], ...]\n",
    "        future \t\t= list of lists in the format: [[TaskName, estimated], ...]\n",
    "```"
   ]
  },
  {
   "cell_type": "code",
   "execution_count": 111,
   "metadata": {},
   "outputs": [],
   "source": [
    "def runSimulation(historical,future):\n",
    "\tpredictedTotal=0\n",
    "\tfor task in future:\n",
    "\t\tselectedEvent = historical[randint(0,len(historical)-1)]\n",
    "\t\tvelocity = selectedEvent[2]/selectedEvent[1]\n",
    "\t\tpredicted = velocity*task[1]\n",
    "\t\tpredictedTotal+=predicted\n",
    "\t\ttask.append(predicted)\n",
    "\tpredictedTotal=round(predictedTotal,2)\n",
    "\treturn (predictedTotal)"
   ]
  },
  {
   "cell_type": "markdown",
   "metadata": {},
   "source": [
    "Function to run $N$ simulations.\n",
    "```\n",
    "Runs n simulations of future data based on historical data.\n",
    "Input:  historical \t= list of lists in the format: [[TaskName, estimated, actual], ...]\n",
    "        future \t\t= list of lists in the format: [[TaskName, estimated], ...]\n",
    "        n \t\t\t = number of simulations to run\n",
    "```"
   ]
  },
  {
   "cell_type": "code",
   "execution_count": 112,
   "metadata": {},
   "outputs": [],
   "source": [
    "def runSimulations(historical,future,n=1,verbose=False):\n",
    "\testTotal=0\n",
    "\tpredictions=[]\n",
    "\tfor task in future:\n",
    "\t\testTotal+=task[1]\n",
    "\tprint(\"Total Hours Estimated: \"+str(estTotal))\n",
    "\tfor i in range(0,n):\n",
    "\t\tpredictedTotal = runSimulation(historical,future)\n",
    "\t\tpredictions.append(predictedTotal)\n",
    "\t\tif (verbose):\n",
    "\t\t\tprint (\"Trial {0:2} prediction: {1:.0f} ({2:.2f}% of estimated)\".format(i,predictedTotal,100*predictedTotal/estTotal))\n",
    "\tprint(\"Takes a Minimum of {0:.0f} hours for all tasks to complete. ({1:.2f}% of estimated hours)\".format(min(predictions),100*min(predictions)/estTotal))\n",
    "\tprint(\"Takes a Maximum of {0:.0f} hours for all tasks to complete. ({1:.2f}% of estimated hours)\\n\".format(max(predictions),100*max(predictions)/estTotal))\n",
    "\treturn(sorted(predictions))"
   ]
  },
  {
   "cell_type": "markdown",
   "metadata": {},
   "source": [
    "### Functions for Probablistic Conversion\n",
    "These functions count for the probability of occurence of each prediction, which is later used for plotting the predictions against the perfect estimate as the confidence reaches its peak (*i.e. Simulations completed nears the value of $N$*)"
   ]
  },
  {
   "cell_type": "markdown",
   "metadata": {},
   "source": [
    "#### Summarize Function\n",
    "```\n",
    "Input: List of predictions\n",
    "Output: Nested lists of prediction and their count\n",
    "```"
   ]
  },
  {
   "cell_type": "code",
   "execution_count": 113,
   "metadata": {},
   "outputs": [],
   "source": [
    "def summarize(data):\n",
    "\tpoints = []\n",
    "\toutput=[]\n",
    "\tfor p in data:\n",
    "\t\tif (p not in points):\n",
    "\t\t\tpoints.append(p)\n",
    "\tfor p in points:\n",
    "\t\tc = data.count(p)\n",
    "\t\toutput.append([p,c])\n",
    "\treturn(output)"
   ]
  },
  {
   "cell_type": "markdown",
   "metadata": {},
   "source": [
    "#### Confidence Computing Function\n",
    "```\n",
    "Input: Prediction counts, nested lists of format [[prediction, count],...]\n",
    "Output: Predictions with confidence percentages of format [[prediction, percent],...]\n",
    "```"
   ]
  },
  {
   "cell_type": "code",
   "execution_count": 114,
   "metadata": {},
   "outputs": [],
   "source": [
    "def computeConfidence(data,verbose=False):\n",
    "\ttrialsSoFar=0\n",
    "\ttotalTrials = sum([predWithTrials[1] for predWithTrials in data])\n",
    "\tif (verbose):\n",
    "\t\tprint(\"Total trials: {0}\".format(totalTrials))\n",
    "\tconfidenceRatings=[]\n",
    "\tfor prediction in data:\n",
    "\t\ttrialsSoFar+=prediction[1]\n",
    "\t\tconfidence = float(trialsSoFar)/float(totalTrials)*100\n",
    "\t\tif (verbose):\n",
    "\t\t\tprint(\"Prediction: {0} (Confidence: {1:.2f}%)\".format(prediction[0],confidence))\n",
    "\t\tconfidenceRatings.append([prediction[0],confidence])\n",
    "\treturn(confidenceRatings)"
   ]
  },
  {
   "cell_type": "markdown",
   "metadata": {},
   "source": [
    "### Model Runner\n",
    "```\n",
    "Input: Historical and Future data\n",
    "Output: Ascending Ordered Predictions with confidence in format: [[predicted, confidence percent],...]\n",
    "\t\t(Interpreted as \"C% completion chance for P\")\n",
    "```"
   ]
  },
  {
   "cell_type": "code",
   "execution_count": 115,
   "metadata": {},
   "outputs": [],
   "source": [
    "# MODEL RUNNER FROM FILE (STEP--1)\n",
    "def runModelFromFiles(historicalFilename,futureFilename,trials=10000,plot=True):\n",
    "\thistorical, future \t= loadData(historicalFilename,futureFilename)\n",
    "\treturn runModelFromData(historical,future,trials,plot)\n",
    "# MODEL RUNNER FROM DATA (STEP--2)\n",
    "def runModelFromData(historical,future,trials=10000,plot=False):\n",
    "\tprint(\"Running {0} trials.\".format(trials))\n",
    "\tmatplotlib.pyplot.clf()\n",
    "\tsimulationData \t\t= runSimulations(historical, future,trials)\n",
    "\tsummaryData \t\t= summarize(simulationData)\n",
    "\tconfidenceData \t\t= computeConfidence(summaryData)\n",
    "\tperfectEstimate = sum([item[1] for item in future])\n",
    "\tif (plot == True):\n",
    "\t\tplotPredictions(confidenceData,perfectEstimate)        \n",
    "\treturn(confidenceData,perfectEstimate)"
   ]
  },
  {
   "cell_type": "markdown",
   "metadata": {},
   "source": [
    "### Model Plotter"
   ]
  },
  {
   "cell_type": "code",
   "execution_count": 116,
   "metadata": {},
   "outputs": [],
   "source": [
    "def plotPredictions(confidenceData,estimated=None,xLabel=\"Hours\",yLabel=\"% of Simulations Complete\",chartType=\"plot\"):\n",
    "\tx = [item[0] for item in confidenceData]\n",
    "\ty = [item[1] for item in confidenceData]\n",
    "\tmatplotlib.pyplot.title('{0} and {1}'.format(xLabel,yLabel))\n",
    "\tif (len(y)<10):\n",
    "\t\tlefts = [v-.5 for v in x]\n",
    "\t\tmatplotlib.pyplot.ylim(0,110)\n",
    "\t\tmatplotlib.pyplot.bar(lefts,y,width=((max(x)-min(x))/(len(x)-1)))\n",
    "\t\tif (estimated is not None):\n",
    "\t\t\tx.append(estimated)\n",
    "\t\tmatplotlib.pyplot.xticks(x)\n",
    "\telse:\n",
    "\t\tmatplotlib.pyplot.ylim(-10,110)\n",
    "\t\tmatplotlib.pyplot.plot(x,y)\n",
    "\tmatplotlib.pyplot.xlabel(xLabel)\n",
    "\tmatplotlib.pyplot.ylabel(yLabel)\n",
    "\tmatplotlib.pyplot.show()"
   ]
  },
  {
   "cell_type": "markdown",
   "metadata": {},
   "source": [
    "### Model Execution"
   ]
  },
  {
   "cell_type": "code",
   "execution_count": 117,
   "metadata": {},
   "outputs": [
    {
     "name": "stdout",
     "output_type": "stream",
     "text": [
      "Running 10000 trials.\n",
      "Total Hours Estimated: 377\n",
      "Takes a Minimum of 409 hours for all tasks to complete. (108.43% of estimated hours)\n",
      "Takes a Maximum of 619 hours for all tasks to complete. (164.15% of estimated hours)\n",
      "\n"
     ]
    },
    {
     "data": {
      "image/png": "[encoded data removed]",
      "text/plain": [
       "<Figure size 432x288 with 1 Axes>"
      ]
     },
     "metadata": {
      "needs_background": "light"
     },
     "output_type": "display_data"
    }
   ],
   "source": [
    "def main():\n",
    "    runModelFromFiles('historical.csv','future.csv')\n",
    "main()"
   ]
  },
  {
   "cell_type": "raw",
   "metadata": {},
   "source": [
    "Arvind Srinivasan. 2019."
   ]
  }
 ],
 "metadata": {
  "kernelspec": {
   "display_name": "Python 3",
   "language": "python",
   "name": "python3"
  },
  "language_info": {
   "codemirror_mode": {
    "name": "ipython",
    "version": 3
   },
   "file_extension": ".py",
   "mimetype": "text/x-python",
   "name": "python",
   "nbconvert_exporter": "python",
   "pygments_lexer": "ipython3",
   "version": "3.6.3"
  }
 },
 "nbformat": 4,
 "nbformat_minor": 2
}
